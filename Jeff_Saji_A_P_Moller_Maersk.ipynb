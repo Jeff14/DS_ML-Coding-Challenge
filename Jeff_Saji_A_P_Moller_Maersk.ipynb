{
  "cells": [
    {
      "cell_type": "code",
      "source": [
        "import pandas as pd\n",
        "import numpy as np\n",
        "from sklearn.model_selection import train_test_split\n",
        "from sklearn.impute import SimpleImputer\n",
        "from sklearn.preprocessing import StandardScaler, OneHotEncoder\n",
        "from sklearn.compose import ColumnTransformer\n",
        "from sklearn.pipeline import Pipeline\n",
        "from sklearn.linear_model import LinearRegression\n",
        "from sklearn.ensemble import RandomForestRegressor\n",
        "from statsmodels.tsa.holtwinters import ExponentialSmoothing\n",
        "from sklearn.metrics import mean_squared_error"
      ],
      "metadata": {
        "id": "74d3RW_syjLv"
      },
      "execution_count": 1,
      "outputs": []
    },
    {
      "cell_type": "code",
      "source": [
        "file_path = '/content/DS_ML Coding Challenge Dataset (1).xlsx'\n",
        "train_df = pd.read_excel(file_path, sheet_name='Training Dataset')\n",
        "test_df = pd.read_excel(file_path, sheet_name='Test Dataset')"
      ],
      "metadata": {
        "id": "jefhqKu9ymCA"
      },
      "execution_count": 2,
      "outputs": []
    },
    {
      "cell_type": "code",
      "source": [
        "train_df['Month of Sourcing'] = pd.to_datetime(train_df['Month of Sourcing'])\n",
        "test_df['Month of Sourcing'] = pd.to_datetime(test_df['Month of Sourcing'])"
      ],
      "metadata": {
        "id": "YbfADoOhymFV"
      },
      "execution_count": 3,
      "outputs": []
    },
    {
      "cell_type": "code",
      "source": [
        "X_train = train_df.drop(['Sourcing Cost'], axis=1)\n",
        "y_train = train_df['Sourcing Cost']\n",
        "X_test = test_df.drop(['Sourcing Cost'], axis=1)\n",
        "y_test = test_df['Sourcing Cost']"
      ],
      "metadata": {
        "id": "3Xvm2gA3ysYQ"
      },
      "execution_count": 4,
      "outputs": []
    },
    {
      "cell_type": "code",
      "source": [
        "numeric_features = X_train.select_dtypes(include=['int64', 'float64']).columns\n",
        "numeric_transformer = Pipeline(steps=[\n",
        "    ('imputer', SimpleImputer(strategy='mean')),\n",
        "    ('scaler', StandardScaler())\n",
        "])"
      ],
      "metadata": {
        "id": "5EZ2NI2dyzUP"
      },
      "execution_count": 5,
      "outputs": []
    },
    {
      "cell_type": "code",
      "source": [
        "categorical_features = X_train.select_dtypes(include=['object']).columns\n",
        "categorical_transformer = Pipeline(steps=[\n",
        "    ('imputer', SimpleImputer(strategy='most_frequent')),\n",
        "    ('onehot', OneHotEncoder(handle_unknown='ignore'))\n",
        "])"
      ],
      "metadata": {
        "id": "H5Mf6tjTyzXv"
      },
      "execution_count": 6,
      "outputs": []
    },
    {
      "cell_type": "code",
      "source": [
        "preprocessor = ColumnTransformer(\n",
        "    transformers=[\n",
        "        ('num', numeric_transformer, numeric_features),\n",
        "        ('cat', categorical_transformer, categorical_features)\n",
        "    ])"
      ],
      "metadata": {
        "id": "WfvB4vjsy40k"
      },
      "execution_count": 7,
      "outputs": []
    },
    {
      "cell_type": "code",
      "source": [
        "lr_model = Pipeline(steps=[('preprocessor', preprocessor),\n",
        "                           ('regressor', LinearRegression())])\n",
        "lr_model.fit(X_train, y_train)\n",
        "lr_pred = lr_model.predict(X_test)\n",
        "rmse_lr = mean_squared_error(y_test, lr_pred, squared=False)\n",
        "print(\"RMSE for Linear Regression:\", rmse_lr)"
      ],
      "metadata": {
        "colab": {
          "base_uri": "https://localhost:8080/"
        },
        "id": "DOXm8UIhy43B",
        "outputId": "819b4dff-f426-41f7-9a57-b4d8613a79f3"
      },
      "execution_count": 8,
      "outputs": [
        {
          "output_type": "stream",
          "name": "stdout",
          "text": [
            "RMSE for Linear Regression: 41.35721899199446\n"
          ]
        }
      ]
    },
    {
      "cell_type": "code",
      "source": [
        "rf_model = Pipeline(steps=[('preprocessor', preprocessor),\n",
        "                           ('regressor', RandomForestRegressor())])\n",
        "rf_model.fit(X_train, y_train)\n",
        "rf_pred = rf_model.predict(X_test)\n",
        "rmse_rf = mean_squared_error(y_test, rf_pred, squared=False)\n",
        "print(\"RMSE for Random Forest:\", rmse_rf)"
      ],
      "metadata": {
        "colab": {
          "base_uri": "https://localhost:8080/"
        },
        "id": "ClVFSOuTy46Y",
        "outputId": "f29c1ee7-be99-4a21-de2d-04719fb4ad55"
      },
      "execution_count": 9,
      "outputs": [
        {
          "output_type": "stream",
          "name": "stdout",
          "text": [
            "RMSE for Random Forest: 38.52652718116699\n"
          ]
        }
      ]
    },
    {
      "cell_type": "code",
      "source": [
        "ets_model = ExponentialSmoothing(y_train, trend=None, seasonal=None, seasonal_periods=None, damped=False)\n",
        "ets_fit = ets_model.fit(smoothing_level=0.6)\n",
        "ets_pred = ets_fit.forecast(len(X_test))\n",
        "rmse_ets = mean_squared_error(y_test, ets_pred, squared=False)\n",
        "print(\"RMSE for Exponential Smoothing:\", rmse_ets)"
      ],
      "metadata": {
        "colab": {
          "base_uri": "https://localhost:8080/"
        },
        "id": "JAT2fVFJzB6Y",
        "outputId": "8b388c46-d374-4782-ba6d-5b9228dfaac2"
      },
      "execution_count": 10,
      "outputs": [
        {
          "output_type": "stream",
          "name": "stderr",
          "text": [
            "<ipython-input-10-35d9744b8e5f>:1: FutureWarning: the 'damped' keyword is deprecated, use 'damped_trend' instead.\n",
            "  ets_model = ExponentialSmoothing(y_train, trend=None, seasonal=None, seasonal_periods=None, damped=False)\n"
          ]
        },
        {
          "output_type": "stream",
          "name": "stdout",
          "text": [
            "RMSE for Exponential Smoothing: 61.89972058287732\n"
          ]
        }
      ]
    }
  ],
  "metadata": {
    "accelerator": "GPU",
    "colab": {
      "gpuType": "T4",
      "provenance": []
    },
    "kernelspec": {
      "display_name": "Python 3",
      "name": "python3"
    },
    "language_info": {
      "name": "python"
    }
  },
  "nbformat": 4,
  "nbformat_minor": 0
}